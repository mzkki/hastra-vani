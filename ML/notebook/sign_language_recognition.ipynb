{
 "cells": [
  {
   "cell_type": "code",
   "execution_count": 2,
   "metadata": {},
   "outputs": [],
   "source": [
    "import os\n",
    "import tensorflow as tf\n",
    "from tensorflow.keras.preprocessing.image import ImageDataGenerator\n",
    "from tensorflow.keras import layers, models\n",
    "import numpy as np"
   ]
  },
  {
   "cell_type": "code",
   "execution_count": 3,
   "metadata": {},
   "outputs": [],
   "source": [
    "# Mengatur parameter\n",
    "batch_size = 32\n",
    "img_height = 180\n",
    "img_width = 180"
   ]
  },
  {
   "cell_type": "code",
   "execution_count": 4,
   "metadata": {},
   "outputs": [],
   "source": [
    "# Mengatur direktori dataset\n",
    "train_dir = '../data/train'\n",
    "val_dir = '../data/validation'\n",
    "\n",
    "# Cek apakah direktori ada\n",
    "if not os.path.exists(train_dir):\n",
    "    print(f\"Direktori train tidak ditemukan: {train_dir}\")\n",
    "if not os.path.exists(val_dir):\n",
    "    print(f\"Direktori validation tidak ditemukan: {val_dir}\")"
   ]
  },
  {
   "cell_type": "code",
   "execution_count": 5,
   "metadata": {},
   "outputs": [],
   "source": [
    "# Menggunakan ImageDataGenerator untuk augmentasi data\n",
    "train_datagen = ImageDataGenerator(\n",
    "    rescale=1./255,\n",
    "    rotation_range=20,\n",
    "    width_shift_range=0.2,\n",
    "    height_shift_range=0.2,\n",
    "    shear_range=0.2,\n",
    "    zoom_range=0.2,\n",
    "    horizontal_flip=True,\n",
    "    fill_mode='nearest'\n",
    ")\n",
    "\n",
    "val_datagen = ImageDataGenerator(rescale=1./255)"
   ]
  },
  {
   "cell_type": "code",
   "execution_count": 6,
   "metadata": {},
   "outputs": [
    {
     "name": "stdout",
     "output_type": "stream",
     "text": [
      "Found 2851 images belonging to 26 classes.\n",
      "Found 2851 images belonging to 26 classes.\n"
     ]
    }
   ],
   "source": [
    "# Mengalirkan data dari direktori\n",
    "train_generator = train_datagen.flow_from_directory(\n",
    "    train_dir,\n",
    "    target_size=(img_height, img_width),\n",
    "    batch_size=batch_size,\n",
    "    class_mode='categorical'\n",
    ")\n",
    "\n",
    "validation_generator = val_datagen.flow_from_directory(\n",
    "    val_dir,\n",
    "    target_size=(img_height, img_width),\n",
    "    batch_size=batch_size,\n",
    "    class_mode='categorical'\n",
    ")\n"
   ]
  },
  {
   "cell_type": "code",
   "execution_count": 7,
   "metadata": {},
   "outputs": [
    {
     "name": "stderr",
     "output_type": "stream",
     "text": [
      "c:\\HASTRA_VANI\\myenv\\Lib\\site-packages\\keras\\src\\layers\\convolutional\\base_conv.py:107: UserWarning: Do not pass an `input_shape`/`input_dim` argument to a layer. When using Sequential models, prefer using an `Input(shape)` object as the first layer in the model instead.\n",
      "  super().__init__(activity_regularizer=activity_regularizer, **kwargs)\n"
     ]
    }
   ],
   "source": [
    "# Membangun model CNN\n",
    "model = models.Sequential([\n",
    "    layers.Conv2D(32, (3, 3), activation='relu', input_shape=(img_height, img_width, 3)),\n",
    "    layers.MaxPooling2D(pool_size=(2, 2)),\n",
    "    layers.Conv2D(64, (3, 3), activation='relu'),\n",
    "    layers.MaxPooling2D(pool_size=(2, 2)),\n",
    "    layers.Conv2D(128, (3, 3), activation='relu'),\n",
    "    layers.MaxPooling2D(pool_size=(2, 2)),\n",
    "    layers.Flatten(),\n",
    "    layers.Dense(128, activation='relu'),\n",
    "    layers.Dense(len(train_generator.class_indices), activation='softmax')  # Jumlah kelas\n",
    "])\n",
    "\n",
    "# Mengompilasi model\n",
    "model.compile(optimizer='adam',\n",
    "              loss='categorical_crossentropy',\n",
    "              metrics=['accuracy'])"
   ]
  },
  {
   "cell_type": "code",
   "execution_count": 9,
   "metadata": {},
   "outputs": [
    {
     "name": "stdout",
     "output_type": "stream",
     "text": [
      "Image tensors shape: []\n"
     ]
    }
   ],
   "source": [
    "@tf.function\n",
    "def train_step_fn(image_list, groundtruth_boxes_list, groundtruth_classes_list, model, optimizer, vars_to_fine_tune):\n",
    "    \"\"\"A single training iteration.\"\"\"\n",
    "    with tf.GradientTape() as tape:\n",
    "        # Pastikan image_list adalah tensor 4-D\n",
    "        preprocessed_images = tf.convert_to_tensor(image_list)  # Langsung menggunakan tensor\n",
    "\n",
    "        # Make a prediction\n",
    "        prediction_dict = model(preprocessed_images, training=True)\n",
    "\n",
    "        # Gunakan tf.print untuk memeriksa tipe dan bentuk prediction_dict\n",
    "        tf.print(\"Type of prediction_dict:\", type(prediction_dict))\n",
    "        tf.print(\"Shape of prediction_dict:\", tf.shape(prediction_dict))\n",
    "\n",
    "        # Jika prediction_dict adalah tensor, cetak bentuknya\n",
    "        if isinstance(prediction_dict, tf.Tensor):\n",
    "            tf.print(\"prediction_dict is a tensor with shape:\", prediction_dict.shape)\n",
    "            # Jika output adalah tensor, Anda mungkin perlu memprosesnya secara berbeda\n",
    "            predictions = prediction_dict  # Sesuaikan ini sesuai kebutuhan\n",
    "        elif isinstance(prediction_dict, dict):\n",
    "            tf.print(\"Keys in prediction_dict:\", prediction_dict.keys())\n",
    "            predictions = prediction_dict.get('class_predictions_with_background', None)  # Ganti dengan kunci yang benar\n",
    "            if predictions is None:\n",
    "                tf.print(\"Warning: 'class_predictions_with_background' not found in prediction_dict.\")\n",
    "                return None  # Atau tangani kesalahan sesuai kebutuhan\n",
    "        else:\n",
    "            tf.print(\"prediction_dict is of an unexpected type.\")\n",
    "            return None  # Atau tangani kesalahan sesuai kebutuhan\n",
    "\n",
    "        # Flatten predictions\n",
    "        predictions = tf.reshape(predictions, (-1, 26))  # Pastikan dimensi sesuai\n",
    "\n",
    "        # Ubah bentuk groundtruth_classes_list menjadi one-hot encoding\n",
    "        groundtruth_classes_one_hot = tf.one_hot(groundtruth_classes_list, depth=26)  # Ubah sesuai jumlah kelas\n",
    "        groundtruth_classes_one_hot = tf.reshape(groundtruth_classes_one_hot, (-1, 26))  # Pastikan bentuknya sesuai\n",
    "\n",
    "        # Calculate the total loss (sum of both losses)\n",
    "        loss_value = tf.keras.losses.categorical_crossentropy(\n",
    "            groundtruth_classes_one_hot,  # Gunakan one-hot encoded classes\n",
    "            predictions,\n",
    "            from_logits=True\n",
    "        )\n",
    "        total_loss = tf.reduce_mean(loss_value)\n",
    "\n",
    "        # Calculate the gradients\n",
    "        gradients = tape.gradient(total_loss, vars_to_fine_tune)\n",
    "\n",
    "        # Optimize the model's selected variables\n",
    "        optimizer.apply_gradients(zip(gradients, vars_to_fine_tune))\n",
    "\n",
    "    return total_loss\n",
    "\n",
    "print(f\"Image tensors shape: {[img.shape for img in image_tensors]}\")"
   ]
  },
  {
   "cell_type": "code",
   "execution_count": 10,
   "metadata": {},
   "outputs": [
    {
     "name": "stdout",
     "output_type": "stream",
     "text": [
      "Start fine-tuning! \n"
     ]
    },
    {
     "ename": "ValueError",
     "evalue": "in user code:\n\n    File \"C:\\Users\\ASUS\\AppData\\Local\\Temp\\ipykernel_38408\\3647462354.py\", line 9, in train_step_fn  *\n        prediction_dict = model(preprocessed_images, training=True)\n    File \"c:\\HASTRA_VANI\\myenv\\Lib\\site-packages\\keras\\src\\utils\\traceback_utils.py\", line 122, in error_handler  **\n        raise e.with_traceback(filtered_tb) from None\n    File \"c:\\HASTRA_VANI\\myenv\\Lib\\site-packages\\keras\\src\\models\\functional.py\", line 273, in _adjust_input_rank\n        raise ValueError(\n\n    ValueError: Exception encountered when calling Sequential.call().\n    \n    \u001b[1mInvalid input shape for input Tensor(\"packed:0\", shape=(32, 32, 180, 180, 3), dtype=float32). Expected shape (None, 180, 180, 3), but input has incompatible shape (32, 32, 180, 180, 3)\u001b[0m\n    \n    Arguments received by Sequential.call():\n      • inputs=tf.Tensor(shape=(32, 32, 180, 180, 3), dtype=float32)\n      • training=True\n      • mask=None\n",
     "output_type": "error",
     "traceback": [
      "\u001b[1;31m---------------------------------------------------------------------------\u001b[0m",
      "\u001b[1;31mValueError\u001b[0m                                Traceback (most recent call last)",
      "Cell \u001b[1;32mIn[10], line 22\u001b[0m\n\u001b[0;32m     19\u001b[0m image_tensors \u001b[38;5;241m=\u001b[39m [train_generator[key][\u001b[38;5;241m0\u001b[39m] \u001b[38;5;28;01mfor\u001b[39;00m key \u001b[38;5;129;01min\u001b[39;00m example_keys]\n\u001b[0;32m     21\u001b[0m \u001b[38;5;66;03m# Langkah pelatihan (forward pass + backward pass)\u001b[39;00m\n\u001b[1;32m---> 22\u001b[0m total_loss \u001b[38;5;241m=\u001b[39m \u001b[43mtrain_step_fn\u001b[49m\u001b[43m(\u001b[49m\u001b[43mimage_tensors\u001b[49m\u001b[43m,\u001b[49m\u001b[43m \u001b[49m\u001b[43mgt_boxes_list\u001b[49m\u001b[43m,\u001b[49m\u001b[43m \u001b[49m\u001b[43mgt_classes_list\u001b[49m\u001b[43m,\u001b[49m\u001b[43m \u001b[49m\u001b[43mmodel\u001b[49m\u001b[43m,\u001b[49m\u001b[43m \u001b[49m\u001b[43moptimizer\u001b[49m\u001b[43m,\u001b[49m\u001b[43m \u001b[49m\u001b[43mto_fine_tune\u001b[49m\u001b[43m)\u001b[49m\n\u001b[0;32m     24\u001b[0m \u001b[38;5;28;01mif\u001b[39;00m idx \u001b[38;5;241m%\u001b[39m \u001b[38;5;241m10\u001b[39m \u001b[38;5;241m==\u001b[39m \u001b[38;5;241m0\u001b[39m:\n\u001b[0;32m     25\u001b[0m     \u001b[38;5;28mprint\u001b[39m(\u001b[38;5;124m'\u001b[39m\u001b[38;5;124mbatch \u001b[39m\u001b[38;5;124m'\u001b[39m \u001b[38;5;241m+\u001b[39m \u001b[38;5;28mstr\u001b[39m(idx) \u001b[38;5;241m+\u001b[39m \u001b[38;5;124m'\u001b[39m\u001b[38;5;124m of \u001b[39m\u001b[38;5;124m'\u001b[39m \u001b[38;5;241m+\u001b[39m \u001b[38;5;28mstr\u001b[39m(num_batches) \u001b[38;5;241m+\u001b[39m \u001b[38;5;124m'\u001b[39m\u001b[38;5;124m, loss=\u001b[39m\u001b[38;5;124m'\u001b[39m \u001b[38;5;241m+\u001b[39m \u001b[38;5;28mstr\u001b[39m(total_loss\u001b[38;5;241m.\u001b[39mnumpy()), flush\u001b[38;5;241m=\u001b[39m\u001b[38;5;28;01mTrue\u001b[39;00m)\n",
      "File \u001b[1;32mc:\\HASTRA_VANI\\myenv\\Lib\\site-packages\\tensorflow\\python\\util\\traceback_utils.py:153\u001b[0m, in \u001b[0;36mfilter_traceback.<locals>.error_handler\u001b[1;34m(*args, **kwargs)\u001b[0m\n\u001b[0;32m    151\u001b[0m \u001b[38;5;28;01mexcept\u001b[39;00m \u001b[38;5;167;01mException\u001b[39;00m \u001b[38;5;28;01mas\u001b[39;00m e:\n\u001b[0;32m    152\u001b[0m   filtered_tb \u001b[38;5;241m=\u001b[39m _process_traceback_frames(e\u001b[38;5;241m.\u001b[39m__traceback__)\n\u001b[1;32m--> 153\u001b[0m   \u001b[38;5;28;01mraise\u001b[39;00m e\u001b[38;5;241m.\u001b[39mwith_traceback(filtered_tb) \u001b[38;5;28;01mfrom\u001b[39;00m \u001b[38;5;28;01mNone\u001b[39;00m\n\u001b[0;32m    154\u001b[0m \u001b[38;5;28;01mfinally\u001b[39;00m:\n\u001b[0;32m    155\u001b[0m   \u001b[38;5;28;01mdel\u001b[39;00m filtered_tb\n",
      "File \u001b[1;32m~\\AppData\\Local\\Temp\\__autograph_generated_filemogarp77.py:13\u001b[0m, in \u001b[0;36mouter_factory.<locals>.inner_factory.<locals>.tf__train_step_fn\u001b[1;34m(image_list, groundtruth_boxes_list, groundtruth_classes_list, model, optimizer, vars_to_fine_tune)\u001b[0m\n\u001b[0;32m     11\u001b[0m \u001b[38;5;28;01mwith\u001b[39;00m ag__\u001b[38;5;241m.\u001b[39mld(tf)\u001b[38;5;241m.\u001b[39mGradientTape() \u001b[38;5;28;01mas\u001b[39;00m tape:\n\u001b[0;32m     12\u001b[0m     preprocessed_images \u001b[38;5;241m=\u001b[39m ag__\u001b[38;5;241m.\u001b[39mconverted_call(ag__\u001b[38;5;241m.\u001b[39mld(tf)\u001b[38;5;241m.\u001b[39mconvert_to_tensor, (ag__\u001b[38;5;241m.\u001b[39mld(image_list),), \u001b[38;5;28;01mNone\u001b[39;00m, fscope)\n\u001b[1;32m---> 13\u001b[0m     prediction_dict \u001b[38;5;241m=\u001b[39m \u001b[43mag__\u001b[49m\u001b[38;5;241;43m.\u001b[39;49m\u001b[43mconverted_call\u001b[49m\u001b[43m(\u001b[49m\u001b[43mag__\u001b[49m\u001b[38;5;241;43m.\u001b[39;49m\u001b[43mld\u001b[49m\u001b[43m(\u001b[49m\u001b[43mmodel\u001b[49m\u001b[43m)\u001b[49m\u001b[43m,\u001b[49m\u001b[43m \u001b[49m\u001b[43m(\u001b[49m\u001b[43mag__\u001b[49m\u001b[38;5;241;43m.\u001b[39;49m\u001b[43mld\u001b[49m\u001b[43m(\u001b[49m\u001b[43mpreprocessed_images\u001b[49m\u001b[43m)\u001b[49m\u001b[43m,\u001b[49m\u001b[43m)\u001b[49m\u001b[43m,\u001b[49m\u001b[43m \u001b[49m\u001b[38;5;28;43mdict\u001b[39;49m\u001b[43m(\u001b[49m\u001b[43mtraining\u001b[49m\u001b[38;5;241;43m=\u001b[39;49m\u001b[38;5;28;43;01mTrue\u001b[39;49;00m\u001b[43m)\u001b[49m\u001b[43m,\u001b[49m\u001b[43m \u001b[49m\u001b[43mfscope\u001b[49m\u001b[43m)\u001b[49m\n\u001b[0;32m     14\u001b[0m     ag__\u001b[38;5;241m.\u001b[39mconverted_call(ag__\u001b[38;5;241m.\u001b[39mld(tf)\u001b[38;5;241m.\u001b[39mprint, (\u001b[38;5;124m'\u001b[39m\u001b[38;5;124mType of prediction_dict:\u001b[39m\u001b[38;5;124m'\u001b[39m, ag__\u001b[38;5;241m.\u001b[39mconverted_call(ag__\u001b[38;5;241m.\u001b[39mld(\u001b[38;5;28mtype\u001b[39m), (ag__\u001b[38;5;241m.\u001b[39mld(prediction_dict),), \u001b[38;5;28;01mNone\u001b[39;00m, fscope)), \u001b[38;5;28;01mNone\u001b[39;00m, fscope)\n\u001b[0;32m     15\u001b[0m     ag__\u001b[38;5;241m.\u001b[39mconverted_call(ag__\u001b[38;5;241m.\u001b[39mld(tf)\u001b[38;5;241m.\u001b[39mprint, (\u001b[38;5;124m'\u001b[39m\u001b[38;5;124mShape of prediction_dict:\u001b[39m\u001b[38;5;124m'\u001b[39m, ag__\u001b[38;5;241m.\u001b[39mconverted_call(ag__\u001b[38;5;241m.\u001b[39mld(tf)\u001b[38;5;241m.\u001b[39mshape, (ag__\u001b[38;5;241m.\u001b[39mld(prediction_dict),), \u001b[38;5;28;01mNone\u001b[39;00m, fscope)), \u001b[38;5;28;01mNone\u001b[39;00m, fscope)\n",
      "File \u001b[1;32mc:\\HASTRA_VANI\\myenv\\Lib\\site-packages\\keras\\src\\utils\\traceback_utils.py:122\u001b[0m, in \u001b[0;36mfilter_traceback.<locals>.error_handler\u001b[1;34m(*args, **kwargs)\u001b[0m\n\u001b[0;32m    119\u001b[0m     filtered_tb \u001b[38;5;241m=\u001b[39m _process_traceback_frames(e\u001b[38;5;241m.\u001b[39m__traceback__)\n\u001b[0;32m    120\u001b[0m     \u001b[38;5;66;03m# To get the full stack trace, call:\u001b[39;00m\n\u001b[0;32m    121\u001b[0m     \u001b[38;5;66;03m# `keras.config.disable_traceback_filtering()`\u001b[39;00m\n\u001b[1;32m--> 122\u001b[0m     \u001b[38;5;28;01mraise\u001b[39;00m e\u001b[38;5;241m.\u001b[39mwith_traceback(filtered_tb) \u001b[38;5;28;01mfrom\u001b[39;00m \u001b[38;5;28;01mNone\u001b[39;00m\n\u001b[0;32m    123\u001b[0m \u001b[38;5;28;01mfinally\u001b[39;00m:\n\u001b[0;32m    124\u001b[0m     \u001b[38;5;28;01mdel\u001b[39;00m filtered_tb\n",
      "File \u001b[1;32mc:\\HASTRA_VANI\\myenv\\Lib\\site-packages\\keras\\src\\models\\functional.py:273\u001b[0m, in \u001b[0;36mFunctional._adjust_input_rank\u001b[1;34m(self, flat_inputs)\u001b[0m\n\u001b[0;32m    271\u001b[0m             adjusted\u001b[38;5;241m.\u001b[39mappend(ops\u001b[38;5;241m.\u001b[39mexpand_dims(x, axis\u001b[38;5;241m=\u001b[39m\u001b[38;5;241m-\u001b[39m\u001b[38;5;241m1\u001b[39m))\n\u001b[0;32m    272\u001b[0m             \u001b[38;5;28;01mcontinue\u001b[39;00m\n\u001b[1;32m--> 273\u001b[0m     \u001b[38;5;28;01mraise\u001b[39;00m \u001b[38;5;167;01mValueError\u001b[39;00m(\n\u001b[0;32m    274\u001b[0m         \u001b[38;5;124mf\u001b[39m\u001b[38;5;124m\"\u001b[39m\u001b[38;5;124mInvalid input shape for input \u001b[39m\u001b[38;5;132;01m{\u001b[39;00mx\u001b[38;5;132;01m}\u001b[39;00m\u001b[38;5;124m. Expected shape \u001b[39m\u001b[38;5;124m\"\u001b[39m\n\u001b[0;32m    275\u001b[0m         \u001b[38;5;124mf\u001b[39m\u001b[38;5;124m\"\u001b[39m\u001b[38;5;132;01m{\u001b[39;00mref_shape\u001b[38;5;132;01m}\u001b[39;00m\u001b[38;5;124m, but input has incompatible shape \u001b[39m\u001b[38;5;132;01m{\u001b[39;00mx\u001b[38;5;241m.\u001b[39mshape\u001b[38;5;132;01m}\u001b[39;00m\u001b[38;5;124m\"\u001b[39m\n\u001b[0;32m    276\u001b[0m     )\n\u001b[0;32m    277\u001b[0m \u001b[38;5;66;03m# Add back metadata.\u001b[39;00m\n\u001b[0;32m    278\u001b[0m \u001b[38;5;28;01mfor\u001b[39;00m i \u001b[38;5;129;01min\u001b[39;00m \u001b[38;5;28mrange\u001b[39m(\u001b[38;5;28mlen\u001b[39m(flat_inputs)):\n",
      "\u001b[1;31mValueError\u001b[0m: in user code:\n\n    File \"C:\\Users\\ASUS\\AppData\\Local\\Temp\\ipykernel_38408\\3647462354.py\", line 9, in train_step_fn  *\n        prediction_dict = model(preprocessed_images, training=True)\n    File \"c:\\HASTRA_VANI\\myenv\\Lib\\site-packages\\keras\\src\\utils\\traceback_utils.py\", line 122, in error_handler  **\n        raise e.with_traceback(filtered_tb) from None\n    File \"c:\\HASTRA_VANI\\myenv\\Lib\\site-packages\\keras\\src\\models\\functional.py\", line 273, in _adjust_input_rank\n        raise ValueError(\n\n    ValueError: Exception encountered when calling Sequential.call().\n    \n    \u001b[1mInvalid input shape for input Tensor(\"packed:0\", shape=(32, 32, 180, 180, 3), dtype=float32). Expected shape (None, 180, 180, 3), but input has incompatible shape (32, 32, 180, 180, 3)\u001b[0m\n    \n    Arguments received by Sequential.call():\n      • inputs=tf.Tensor(shape=(32, 32, 180, 180, 3), dtype=float32)\n      • training=True\n      • mask=None\n"
     ]
    }
   ],
   "source": [
    "# Menjalankan pelatihan\n",
    "num_batches = 100  # Misalnya, Anda ingin menjalankan 100 batch\n",
    "optimizer = tf.keras.optimizers.Adam()\n",
    "to_fine_tune = model.trainable_variables\n",
    "\n",
    "print('Start fine-tuning! ', flush=True)\n",
    "\n",
    "for idx in range(num_batches):\n",
    "    # Ambil kunci untuk subset contoh secara acak\n",
    "    all_keys = list(range(len(train_generator)))\n",
    "    np.random.shuffle(all_keys)\n",
    "    example_keys = all_keys[:batch_size]\n",
    "\n",
    "    # Mendapatkan ground truth\n",
    "    gt_boxes_list = [None] * batch_size  # Ganti dengan ground truth bounding boxes jika ada\n",
    "    gt_classes_list = [train_generator.classes[key] for key in example_keys]  # Mengambil kelas dari generator\n",
    "\n",
    "    # Mendapatkan gambar\n",
    "    image_tensors = [train_generator[key][0] for key in example_keys]\n",
    "\n",
    "    # Langkah pelatihan (forward pass + backward pass)\n",
    "    total_loss = train_step_fn(image_tensors, gt_boxes_list, gt_classes_list, model, optimizer, to_fine_tune)\n",
    "\n",
    "    if idx % 10 == 0:\n",
    "        print('batch ' + str(idx) + ' of ' + str(num_batches) + ', loss=' + str(total_loss.numpy()), flush=True)\n",
    "\n",
    "print('Done fine-tuning!')"
   ]
  }
 ],
 "metadata": {
  "kernelspec": {
   "display_name": "myenv",
   "language": "python",
   "name": "python3"
  },
  "language_info": {
   "codemirror_mode": {
    "name": "ipython",
    "version": 3
   },
   "file_extension": ".py",
   "mimetype": "text/x-python",
   "name": "python",
   "nbconvert_exporter": "python",
   "pygments_lexer": "ipython3",
   "version": "3.11.4"
  }
 },
 "nbformat": 4,
 "nbformat_minor": 2
}
